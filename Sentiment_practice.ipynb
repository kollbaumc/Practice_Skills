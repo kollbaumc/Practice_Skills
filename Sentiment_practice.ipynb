{
 "cells": [
  {
   "cell_type": "code",
   "execution_count": 1,
   "id": "039b918c-48f6-40f6-b4ec-ff060cd4be2b",
   "metadata": {},
   "outputs": [],
   "source": [
    "# This is sentiment analysis practice."
   ]
  },
  {
   "cell_type": "code",
   "execution_count": 2,
   "id": "2eac239b-54da-4413-b2d6-e7d527ef81b4",
   "metadata": {},
   "outputs": [],
   "source": [
    "# Load NLP packages\n",
    "import spacy\n",
    "nlp = spacy.load('en_core_web_sm')"
   ]
  },
  {
   "cell_type": "code",
   "execution_count": 3,
   "id": "7fe2367b-0cc6-4f33-b566-6a5802c3684b",
   "metadata": {},
   "outputs": [
    {
     "data": {
      "text/plain": [
       "[('tok2vec', <spacy.pipeline.tok2vec.Tok2Vec at 0x23b76eeaa60>),\n",
       " ('tagger', <spacy.pipeline.tagger.Tagger at 0x23b76eeaee0>),\n",
       " ('parser', <spacy.pipeline.dep_parser.DependencyParser at 0x23b76e08900>),\n",
       " ('senter', <spacy.pipeline.senter.SentenceRecognizer at 0x23b76eeabe0>),\n",
       " ('attribute_ruler',\n",
       "  <spacy.pipeline.attributeruler.AttributeRuler at 0x23b770813c0>),\n",
       " ('lemmatizer', <spacy.lang.en.lemmatizer.EnglishLemmatizer at 0x23b7710c800>),\n",
       " ('ner', <spacy.pipeline.ner.EntityRecognizer at 0x23b76e086d0>)]"
      ]
     },
     "execution_count": 3,
     "metadata": {},
     "output_type": "execute_result"
    }
   ],
   "source": [
    "# Pipeline components\n",
    "nlp.components"
   ]
  },
  {
   "cell_type": "code",
   "execution_count": 4,
   "id": "322310aa-3855-4262-be88-2de6154fa0ac",
   "metadata": {},
   "outputs": [],
   "source": [
    "from spacytextblob.spacytextblob import SpacyTextBlob"
   ]
  },
  {
   "cell_type": "code",
   "execution_count": 5,
   "id": "831c3a24-f65c-46c6-8c15-58abdf555c34",
   "metadata": {},
   "outputs": [
    {
     "data": {
      "text/plain": [
       "<spacytextblob.spacytextblob.SpacyTextBlob at 0x23b7d54a460>"
      ]
     },
     "execution_count": 5,
     "metadata": {},
     "output_type": "execute_result"
    }
   ],
   "source": [
    "# adding spacytextblob to the pipeline \n",
    "nlp.add_pipe(\"spacytextblob\")"
   ]
  },
  {
   "cell_type": "code",
   "execution_count": 6,
   "id": "80b1b43d-7433-49ef-9040-6db86320f2c6",
   "metadata": {},
   "outputs": [
    {
     "data": {
      "text/plain": [
       "[('tok2vec', <spacy.pipeline.tok2vec.Tok2Vec at 0x23b76eeaa60>),\n",
       " ('tagger', <spacy.pipeline.tagger.Tagger at 0x23b76eeaee0>),\n",
       " ('parser', <spacy.pipeline.dep_parser.DependencyParser at 0x23b76e08900>),\n",
       " ('senter', <spacy.pipeline.senter.SentenceRecognizer at 0x23b76eeabe0>),\n",
       " ('attribute_ruler',\n",
       "  <spacy.pipeline.attributeruler.AttributeRuler at 0x23b770813c0>),\n",
       " ('lemmatizer', <spacy.lang.en.lemmatizer.EnglishLemmatizer at 0x23b7710c800>),\n",
       " ('ner', <spacy.pipeline.ner.EntityRecognizer at 0x23b76e086d0>),\n",
       " ('spacytextblob',\n",
       "  <spacytextblob.spacytextblob.SpacyTextBlob at 0x23b7d54a460>)]"
      ]
     },
     "execution_count": 6,
     "metadata": {},
     "output_type": "execute_result"
    }
   ],
   "source": [
    "# checking to make sure spacytextblob is in our pipeline\n",
    "nlp.components"
   ]
  },
  {
   "cell_type": "code",
   "execution_count": 12,
   "id": "a6e94e28-7fa6-4733-87fb-95ed6cb00a23",
   "metadata": {},
   "outputs": [],
   "source": [
    "text = 'I love, love, love, love, love the Iowa Hawkeyes.  The are the most wonderful, outstanding, greatest team ever to play college football.  I hate the cyclones.  They are horrible.  '"
   ]
  },
  {
   "cell_type": "code",
   "execution_count": 13,
   "id": "1fdf5ad5-bf0d-4c4b-aa2c-68022c33963d",
   "metadata": {},
   "outputs": [],
   "source": [
    "sent = nlp(text)"
   ]
  },
  {
   "cell_type": "code",
   "execution_count": 14,
   "id": "e874867b-269f-492c-94b8-e63f14bd0276",
   "metadata": {},
   "outputs": [
    {
     "data": {
      "text/plain": [
       "0.33636363636363636"
      ]
     },
     "execution_count": 14,
     "metadata": {},
     "output_type": "execute_result"
    }
   ],
   "source": [
    "# checking the sentiment polarity of the sentences\n",
    "sent._.polarity"
   ]
  },
  {
   "cell_type": "code",
   "execution_count": 15,
   "id": "ebd2b4cd-f3bc-456f-807a-e56479afc253",
   "metadata": {},
   "outputs": [
    {
     "data": {
      "text/plain": [
       "0.7522727272727273"
      ]
     },
     "execution_count": 15,
     "metadata": {},
     "output_type": "execute_result"
    }
   ],
   "source": [
    "# checking the sentiment subjectivity\n",
    "sent._.subjectivity"
   ]
  },
  {
   "cell_type": "code",
   "execution_count": 17,
   "id": "d1c9cf03-94d8-46a1-83d7-eaa02ce899e4",
   "metadata": {},
   "outputs": [
    {
     "data": {
      "text/plain": [
       "[(['love'], 0.5, 0.6, None),\n",
       " (['love'], 0.5, 0.6, None),\n",
       " (['love'], 0.5, 0.6, None),\n",
       " (['love'], 0.5, 0.6, None),\n",
       " (['love'], 0.5, 0.6, None),\n",
       " (['most'], 0.5, 0.5, None),\n",
       " (['wonderful'], 1.0, 1.0, None),\n",
       " (['outstanding'], 0.5, 0.875, None),\n",
       " (['greatest'], 1.0, 1.0, None),\n",
       " (['hate'], -0.8, 0.9, None),\n",
       " (['horrible'], -1.0, 1.0, None)]"
      ]
     },
     "execution_count": 17,
     "metadata": {},
     "output_type": "execute_result"
    }
   ],
   "source": [
    "#assessments on the postive and negative words in my sentence \n",
    "sent._.assessments"
   ]
  },
  {
   "cell_type": "code",
   "execution_count": null,
   "id": "7d49d95f-973c-4837-a980-8451cbc28c07",
   "metadata": {},
   "outputs": [],
   "source": []
  }
 ],
 "metadata": {
  "kernelspec": {
   "display_name": "Python 3 (ipykernel)",
   "language": "python",
   "name": "python3"
  },
  "language_info": {
   "codemirror_mode": {
    "name": "ipython",
    "version": 3
   },
   "file_extension": ".py",
   "mimetype": "text/x-python",
   "name": "python",
   "nbconvert_exporter": "python",
   "pygments_lexer": "ipython3",
   "version": "3.9.12"
  }
 },
 "nbformat": 4,
 "nbformat_minor": 5
}
